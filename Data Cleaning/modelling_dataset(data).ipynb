{
 "cells": [
  {
   "cell_type": "code",
   "execution_count": 12,
   "metadata": {},
   "outputs": [],
   "source": [
    "import pandas as pd\n",
    "from datetime import date \n",
    "import holidays \n",
    "import numpy as np\n",
    "\n",
    "# Read the CSV files\n",
    "cardio = pd.read_csv('modelling_data/cardio_at_asir.csv')\n",
    "environment = pd.read_csv('modelling_data/environment.csv')\n",
    "\n",
    "# Merge the DataFrames with an indicator\n",
    "combined = environment.merge(cardio, on=['date', 'at_code'], how='right', indicator=False)\n",
    "\n",
    "# Date columns\n",
    "# Get holidays for Spain for the years 2010 to 2018\n",
    "es_holidays = holidays.ES(years=list(np.arange(2010, 2019)),  subdiv='CT')\n",
    "holidays_df = pd.DataFrame(list(es_holidays.items()), columns=['Date', 'Holiday'])\n",
    "holidays_df = holidays_df.rename(columns = {'Date':'date', 'Holiday':'is_holiday'})\n",
    "\n",
    "holidays_df[\"date\"] = pd.to_datetime(holidays_df[\"date\"]) \n",
    "\n",
    "combined[\"date\"] = pd.to_datetime(combined[\"date\"])\n",
    "combined = combined.merge(holidays_df, on ='date', how = 'left')\n",
    "combined['is_holiday'] = np.where(combined['is_holiday'].isna(),0,1)\n",
    "\n",
    "combined['dow'] = combined['date'].dt.day_name() #name of the day of the week\n",
    "combined['day'] = combined['date'].dt.day #day of the month\n",
    "combined['month'] = combined['date'].dt.month #month number\n",
    "combined['year'] = combined['date'].dt.strftime('%y') #two-digit year\n",
    "combined['doy'] = combined['date'].dt.dayofyear #day of the year\n",
    "# Function to categorize each month into a season\n",
    "def categorize_season(month):\n",
    "    if month in [\"05\", \"06\", \"07\", \"08\", \"09\", \"10\"]:\n",
    "        return \"Summer\"\n",
    "    else:\n",
    "        return \"Winter\"\n",
    "\n",
    "# Add a new column \"season\" to the DataFrame based on the month\n",
    "combined['season'] = combined['month'].apply(categorize_season)\n",
    "# Calculate incidence rate\n",
    "combined['incidence_rate'] = combined['events']/combined['population']*100000\n",
    "combined['asir'] = combined['events']/combined['expected']\n",
    "# Last adjustments\n",
    "combined = combined.rename(columns={'Maximum Relative Humidity':'max_hum',\n",
    "                          'Minimum Relative Humidity':'min_hum',\n",
    "                          'Maximum Temperature':'max_temp',\n",
    "                          'Minimum Temperature':'min_temp'})\n",
    "\n",
    "\n",
    "combined.to_csv('modelling_data/data.csv', index = False)"
   ]
  },
  {
   "cell_type": "code",
   "execution_count": null,
   "metadata": {},
   "outputs": [],
   "source": []
  }
 ],
 "metadata": {
  "kernelspec": {
   "display_name": "base",
   "language": "python",
   "name": "python3"
  },
  "language_info": {
   "codemirror_mode": {
    "name": "ipython",
    "version": 3
   },
   "file_extension": ".py",
   "mimetype": "text/x-python",
   "name": "python",
   "nbconvert_exporter": "python",
   "pygments_lexer": "ipython3",
   "version": "3.11.4"
  },
  "orig_nbformat": 4
 },
 "nbformat": 4,
 "nbformat_minor": 2
}
